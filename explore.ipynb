{
 "cells": [
  {
   "cell_type": "markdown",
   "id": "ecd85c85-b1c0-4239-b0e1-56ed49a20f88",
   "metadata": {
    "editable": true,
    "slideshow": {
     "slide_type": ""
    },
    "tags": []
   },
   "source": [
    "# Heading\n",
    "## Sub-Heading\n",
    "### Small-Heading\n",
    "\n",
    "This is a Regular Text\n",
    "\n",
    "---\n",
    "\n",
    "- Task list 1\n",
    "- Task list 2"
   ]
  },
  {
   "cell_type": "code",
   "execution_count": 1,
   "id": "84ba4266-183d-485a-b979-10bba15b176c",
   "metadata": {},
   "outputs": [
    {
     "name": "stdout",
     "output_type": "stream",
     "text": [
      "Hello\n"
     ]
    }
   ],
   "source": [
    "print(\"Hello\")"
   ]
  }
 ],
 "metadata": {
  "kernelspec": {
   "display_name": ".venv",
   "language": "python",
   "name": "python3"
  },
  "language_info": {
   "codemirror_mode": {
    "name": "ipython",
    "version": 3
   },
   "file_extension": ".py",
   "mimetype": "text/x-python",
   "name": "python",
   "nbconvert_exporter": "python",
   "pygments_lexer": "ipython3",
   "version": "3.13.2"
  }
 },
 "nbformat": 4,
 "nbformat_minor": 5
}
