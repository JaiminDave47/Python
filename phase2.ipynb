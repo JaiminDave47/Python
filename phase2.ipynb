{
 "cells": [
  {
   "cell_type": "markdown",
   "id": "258064af-a78c-4497-af1d-1530a1aa60ea",
   "metadata": {},
   "source": [
    "# Numpy Array Operations"
   ]
  },
  {
   "cell_type": "code",
   "execution_count": null,
   "id": "7c206b90-c533-484c-904c-7af906bafcc0",
   "metadata": {},
   "outputs": [],
   "source": [
    "import numpy as np"
   ]
  },
  {
   "cell_type": "code",
   "execution_count": null,
   "id": "8279f0d2-f2ed-4abd-8347-1f141ce5008b",
   "metadata": {},
   "outputs": [],
   "source": [
    "arr = np.array([i for i in range(0, 10)])\n",
    "print(\"Array: \", arr)\n",
    "print(\"Basic Slicing: \", arr[2:7])\n",
    "print(\"With Step: \", arr[1: 10: 2])\n",
    "print(\"Negative indexing: \", arr[-1])"
   ]
  },
  {
   "cell_type": "code",
   "execution_count": null,
   "id": "b614e77d-b367-4a22-b6a5-104fa33a748a",
   "metadata": {},
   "outputs": [],
   "source": [
    "arr_2d = np.array([[1, 2, 3],\n",
    "               [4, 5, 6],\n",
    "                [7, 8, 9]])\n",
    "print(\"Array:\\n\", arr_2d)\n",
    "print(\"Specific element (0th row, 2nd column): \", arr_2d[0, 2])\n",
    "print(\"Specific row (1st row): \", arr_2d[1])\n",
    "print(\"Specific column (0th column): \", arr_2d[:, 0])"
   ]
  },
  {
   "cell_type": "markdown",
   "id": "032604c3-33f0-4936-a6ac-1d5fd7bdcf85",
   "metadata": {},
   "source": [
    "## Sorting"
   ]
  },
  {
   "cell_type": "code",
   "execution_count": null,
   "id": "aec06d19-80d6-421b-ab78-69c6194e4869",
   "metadata": {},
   "outputs": [],
   "source": [
    "unsorted = np.array([3, 1, 4, 1, 5, 9, 2, 6])\n",
    "print(\"Sorted Array: \", np.sort(unsorted))\n",
    "\n",
    "uns_2d_arr = np.array([[2, 1],\n",
    "                       [4, 3],\n",
    "                       [1, 2]])\n",
    "print(\"\\nSorted Array by Column:\\n\", np.sort(uns_2d_arr, axis = 0))\n",
    "print(\"\\nSorted Array by Row:\\n\", np.sort(uns_2d_arr, axis = 1))"
   ]
  },
  {
   "cell_type": "markdown",
   "id": "fbc9c08d-ee89-4bce-b93b-254106395050",
   "metadata": {},
   "source": [
    "## Filter"
   ]
  },
  {
   "cell_type": "code",
   "execution_count": null,
   "id": "2dbc3a12-490d-48d2-9d3b-8fbe530ffa86",
   "metadata": {},
   "outputs": [],
   "source": [
    "numbers = np.array([i for i in range(1, 11)]) # [1, 2, 3, 4, 5, 6, 7, 8, 8, 10]\n",
    "even_numbers = numbers[numbers % 2 == 0]\n",
    "print(\"Even Numbers:\", even_numbers)"
   ]
  },
  {
   "cell_type": "markdown",
   "id": "6c2b494f-6fcb-4879-83a1-52a1fe5647c5",
   "metadata": {},
   "source": [
    "### Filter with mask"
   ]
  },
  {
   "cell_type": "code",
   "execution_count": null,
   "id": "44c4a6e7-0688-43d6-bbb9-ce3a77d2ee79",
   "metadata": {},
   "outputs": [],
   "source": [
    "mask = numbers > 5\n",
    "print(\"Numebrs greater than 5: \", numbers[mask])"
   ]
  },
  {
   "cell_type": "markdown",
   "id": "eee79212-3b59-4756-ba40-4a3e4d518d66",
   "metadata": {},
   "source": [
    "## Fancy Indexing vs np.where()"
   ]
  },
  {
   "cell_type": "code",
   "execution_count": null,
   "id": "d1021222-fe0f-442a-98d8-2cdea83915f8",
   "metadata": {},
   "outputs": [],
   "source": [
    "indices = [0, 2, 4]\n",
    "print(numbers[indices])\n",
    "\n",
    "where_result = np.where(numbers > 5)\n",
    "print(\"np Where: \", numbers[where_result])"
   ]
  },
  {
   "cell_type": "code",
   "execution_count": null,
   "id": "df390924-d5d9-4547-9385-63ca37c73caa",
   "metadata": {},
   "outputs": [],
   "source": [
    "# np.where(condition, \"true\", \"false\")\n",
    "condition_array = np.where(numbers > 5, numbers*2, numbers)\n",
    "print(condition_array)"
   ]
  },
  {
   "cell_type": "markdown",
   "id": "ea5957db-e80e-4c16-ae55-6dfae18c6bd3",
   "metadata": {},
   "source": [
    "## Adding and Removing Data"
   ]
  },
  {
   "cell_type": "code",
   "execution_count": 30,
   "id": "e7e867e1-c5d4-46fc-a9c5-10cf65303ded",
   "metadata": {},
   "outputs": [
    {
     "name": "stdout",
     "output_type": "stream",
     "text": [
      "[1 2 3 4 5 6]\n"
     ]
    }
   ],
   "source": [
    "arr1 = np.array([1, 2, 3])\n",
    "arr2 = np.array([4, 5, 6])\n",
    "combined = np.concatenate((arr1, arr2))\n",
    "print(combined)"
   ]
  },
  {
   "cell_type": "markdown",
   "id": "db06cca6-5ee2-4c79-b095-9b87469787d0",
   "metadata": {},
   "source": [
    "### Array Compatibility"
   ]
  },
  {
   "cell_type": "code",
   "execution_count": 34,
   "id": "14c65d34-63e1-4cad-bfc6-295c3848a157",
   "metadata": {},
   "outputs": [
    {
     "name": "stdout",
     "output_type": "stream",
     "text": [
      "Compatibility Shapes:  True\n"
     ]
    }
   ],
   "source": [
    "a = np.array([1, 2, 3])\n",
    "b = np.array([4, 5, 6])\n",
    "c = np.array([7, 8, 9])\n",
    "\n",
    "print(\"Compatibility Shapes: \", a.shape == b.shape == c.shape)"
   ]
  },
  {
   "cell_type": "markdown",
   "id": "c220266e-f072-4f80-ab09-96cbcf5665e2",
   "metadata": {},
   "source": [
    "### Adding Rows/Columns"
   ]
  },
  {
   "cell_type": "code",
   "execution_count": 43,
   "id": "056ecbc6-8795-4392-97e9-25478e5fdf72",
   "metadata": {},
   "outputs": [
    {
     "name": "stdout",
     "output_type": "stream",
     "text": [
      "Original:\n",
      " [[1 2]\n",
      " [3 4]]\n",
      "\n",
      "With new row:\n",
      " [[1 2]\n",
      " [3 4]\n",
      " [5 6]]\n",
      "\n",
      "With new column:\n",
      " [[1 2 7]\n",
      " [3 4 8]]\n"
     ]
    }
   ],
   "source": [
    "original = np.array([[1, 2], [3, 4]])\n",
    "new_row = np.array([[5, 6]])\n",
    "with_new_row = np.vstack((original, new_row))\n",
    "\n",
    "print(\"Original:\\n\", original)\n",
    "print(\"\\nWith new row:\\n\", with_new_row)\n",
    "\n",
    "new_column = np.array([[7], [8]])\n",
    "with_new_col = np.hstack((original, new_column))\n",
    "\n",
    "print(\"\\nWith new column:\\n\", with_new_col)"
   ]
  },
  {
   "cell_type": "markdown",
   "id": "0a08a1a1-893d-474f-887e-8fee6e1a75e2",
   "metadata": {},
   "source": [
    "### Removing Rows/Columns"
   ]
  },
  {
   "cell_type": "code",
   "execution_count": 51,
   "id": "226f6dee-9c4e-48ee-9dfe-25751ab28eb3",
   "metadata": {},
   "outputs": [
    {
     "name": "stdout",
     "output_type": "stream",
     "text": [
      "Array after deletion:  [ 1  3  4  5  6  7  8  9 10]\n"
     ]
    }
   ],
   "source": [
    "arr = np.array([1, 2, 3, 4, 5, 6, 7, 8, 9, 10])\n",
    "deleted = np.delete(arr, 1)\n",
    "print(\"Array after deletion: \", deleted)"
   ]
  },
  {
   "cell_type": "markdown",
   "id": "3c0c0e9c-0728-4bf4-b307-82be968ff00b",
   "metadata": {},
   "source": [
    "## End of Phase 2"
   ]
  }
 ],
 "metadata": {
  "kernelspec": {
   "display_name": ".venv",
   "language": "python",
   "name": "python3"
  },
  "language_info": {
   "codemirror_mode": {
    "name": "ipython",
    "version": 3
   },
   "file_extension": ".py",
   "mimetype": "text/x-python",
   "name": "python",
   "nbconvert_exporter": "python",
   "pygments_lexer": "ipython3",
   "version": "3.13.2"
  }
 },
 "nbformat": 4,
 "nbformat_minor": 5
}
